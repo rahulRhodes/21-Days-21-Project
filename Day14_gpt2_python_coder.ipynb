{
  "nbformat": 4,
  "nbformat_minor": 0,
  "metadata": {
    "colab": {
      "provenance": []
    },
    "kernelspec": {
      "name": "python3",
      "display_name": "Python 3"
    },
    "language_info": {
      "name": "python"
    }
  },
  "cells": [
    {
      "cell_type": "code",
      "metadata": {
        "colab": {
          "base_uri": "https://localhost:8080/"
        },
        "id": "8fa4fa6f",
        "outputId": "2534af6a-958c-4da2-93b9-5f27c1916db0"
      },
      "source": [
        "!pip install transformers"
      ],
      "execution_count": 1,
      "outputs": [
        {
          "output_type": "stream",
          "name": "stdout",
          "text": [
            "Requirement already satisfied: transformers in /usr/local/lib/python3.12/dist-packages (4.56.1)\n",
            "Requirement already satisfied: filelock in /usr/local/lib/python3.12/dist-packages (from transformers) (3.19.1)\n",
            "Requirement already satisfied: huggingface-hub<1.0,>=0.34.0 in /usr/local/lib/python3.12/dist-packages (from transformers) (0.35.0)\n",
            "Requirement already satisfied: numpy>=1.17 in /usr/local/lib/python3.12/dist-packages (from transformers) (2.0.2)\n",
            "Requirement already satisfied: packaging>=20.0 in /usr/local/lib/python3.12/dist-packages (from transformers) (25.0)\n",
            "Requirement already satisfied: pyyaml>=5.1 in /usr/local/lib/python3.12/dist-packages (from transformers) (6.0.2)\n",
            "Requirement already satisfied: regex!=2019.12.17 in /usr/local/lib/python3.12/dist-packages (from transformers) (2024.11.6)\n",
            "Requirement already satisfied: requests in /usr/local/lib/python3.12/dist-packages (from transformers) (2.32.4)\n",
            "Requirement already satisfied: tokenizers<=0.23.0,>=0.22.0 in /usr/local/lib/python3.12/dist-packages (from transformers) (0.22.0)\n",
            "Requirement already satisfied: safetensors>=0.4.3 in /usr/local/lib/python3.12/dist-packages (from transformers) (0.6.2)\n",
            "Requirement already satisfied: tqdm>=4.27 in /usr/local/lib/python3.12/dist-packages (from transformers) (4.67.1)\n",
            "Requirement already satisfied: fsspec>=2023.5.0 in /usr/local/lib/python3.12/dist-packages (from huggingface-hub<1.0,>=0.34.0->transformers) (2025.3.0)\n",
            "Requirement already satisfied: typing-extensions>=3.7.4.3 in /usr/local/lib/python3.12/dist-packages (from huggingface-hub<1.0,>=0.34.0->transformers) (4.15.0)\n",
            "Requirement already satisfied: hf-xet<2.0.0,>=1.1.3 in /usr/local/lib/python3.12/dist-packages (from huggingface-hub<1.0,>=0.34.0->transformers) (1.1.10)\n",
            "Requirement already satisfied: charset_normalizer<4,>=2 in /usr/local/lib/python3.12/dist-packages (from requests->transformers) (3.4.3)\n",
            "Requirement already satisfied: idna<4,>=2.5 in /usr/local/lib/python3.12/dist-packages (from requests->transformers) (3.10)\n",
            "Requirement already satisfied: urllib3<3,>=1.21.1 in /usr/local/lib/python3.12/dist-packages (from requests->transformers) (2.5.0)\n",
            "Requirement already satisfied: certifi>=2017.4.17 in /usr/local/lib/python3.12/dist-packages (from requests->transformers) (2025.8.3)\n"
          ]
        }
      ]
    },
    {
      "cell_type": "code",
      "metadata": {
        "colab": {
          "base_uri": "https://localhost:8080/"
        },
        "id": "3234d856",
        "outputId": "315fe2e8-86b3-4958-99be-20d1ac766aa8"
      },
      "source": [
        "#load the model\n",
        "from transformers import AutoModelForCausalLM, AutoTokenizer\n",
        "import re\n",
        "\n",
        "# Load the GPT-2 model and tokenizer\n",
        "model_name = \"gpt2\"\n",
        "model = AutoModelForCausalLM.from_pretrained(model_name)\n",
        "tokenizer = AutoTokenizer.from_pretrained(model_name)\n",
        "\n",
        "\n",
        "# GPT-2 doesn’t have a pad token by default\n",
        "if tokenizer.pad_token is None:\n",
        "    tokenizer.pad_token = tokenizer.eos_token\n",
        "\n",
        "#check whether it contains python related stuff or not in prompt\n",
        "def is_python_related(prompt:str)-> bool:\n",
        "  key=[\"python\", \"code\", \"function\", \"class\", \"def\", \"import\", \"list\", \"dict\"]\n",
        "  return any(kw in prompt.lower() for kw in key)\n",
        "\n",
        "\n",
        "#cleaning the output of LLM model\n",
        "def clean_output(output:str)-> str:\n",
        "  clean_lines=[]\n",
        "  for line in output.split('\\n'):\n",
        "    line=line.rstrip()\n",
        "    if not line:\n",
        "      continue\n",
        "    # Drop instruction-style echoes\n",
        "    if line.startswith(\"-\") or line.lower().startswith(\"task:\"):\n",
        "      continue\n",
        "\n",
        "    # ✅ Fix JS-style imports like \"import x from 'x'\"\n",
        "    if re.match(r\"^\\s*import\\s+\\w+\\s+from\\s+['\\\"]\\w+['\\\"]\", line):\n",
        "        module = re.findall(r\"import\\s+(\\w+)\\s+from\\s+['\\\"]\\w+['\\\"]\", line)[0]\n",
        "        clean_lines.append(f\"import {module}\")\n",
        "        continue\n",
        "\n",
        "    # ✅ Keep Python imports (with optional alias, dotted names, and *)\n",
        "    if re.match(r\"^\\s*(import\\s+[\\w\\.]+(\\s+as\\s+\\w+)?|from\\s+[\\w\\.]+\\s+import\\s+[\\w\\*]+(\\s+as\\s+\\w+)?)\", line):\n",
        "        clean_lines.append(line)\n",
        "        continue\n",
        "\n",
        "    # ✅ Assignments\n",
        "    if re.match(r\"^\\s*\\w+\\s*=\", line):\n",
        "        clean_lines.append(line)\n",
        "        continue\n",
        "\n",
        "    # ✅ Defs, classes, control flow, return, print\n",
        "    if re.match(r\"^\\s*(def |class |print|return|for |if |elif |else:|while )\", line):\n",
        "        clean_lines.append(line)\n",
        "        continue\n",
        "\n",
        "    # ✅ Standalone expressions (e.g., arr[::-1], func(x))\n",
        "    if re.match(r\"^\\s*[\\w\\[\\]\\(\\)\\:\\+\\-\\*/\\.,'\\\"]+$\", line):\n",
        "        clean_lines.append(line)\n",
        "        continue\n",
        "\n",
        "  code = \"\\n\".join(clean_lines).strip()\n",
        "  # Collapse multiple blank lines\n",
        "  code = re.sub(r\"\\n\\s*\\n+\", \"\\n\", code)\n",
        "\n",
        "  return code if code else output.strip()  # fallback\n",
        "\n",
        "def generate_response(prompt:str,max_length:int=150)->str:\n",
        "  if not is_python_related(prompt):\n",
        "    return \"I can only answer python related questions\"\n",
        "\n",
        "  inputs = tokenizer.encode(prompt, return_tensors=\"pt\")\n",
        "\n",
        "  outputs = model.generate(\n",
        "        inputs,\n",
        "        max_length=max_length,\n",
        "        do_sample=False,        # deterministic\n",
        "        num_beams=1,            # greedy\n",
        "        repetition_penalty=1.2, # discourage echo\n",
        "        pad_token_id=tokenizer.eos_token_id\n",
        "    )\n",
        "\n",
        "  response = tokenizer.decode(outputs[0], skip_special_tokens=True)\n",
        "\n",
        "  #loom for the output and remove the prompt\n",
        "\n",
        "  if prompt in response:\n",
        "    response = response.split(prompt, 1)[-1].strip()\n",
        "\n",
        "\n",
        "\n",
        "\n",
        "  return clean_output(response)\n",
        "\n",
        "\n",
        "\n",
        "if __name__==\"__main__\":\n",
        "  prompt_list=[\"Write python code that reverses the list\",\"write python code to only generate top 50 prime number\", \"What is photosynthesis\"]\n",
        "\n",
        "\n",
        "  for prompt in prompt_list:\n",
        "    print(f\"Prompt : {prompt}\\n\")\n",
        "    print(\"Response :\",generate_response(prompt))\n",
        "\n",
        "\n"
      ],
      "execution_count": 19,
      "outputs": [
        {
          "output_type": "stream",
          "name": "stdout",
          "text": [
            "Prompt : Write python code that reverses the list\n",
            "\n",
            "Response : of values in a dictionary.\n",
            "The following example shows how to use this method: >>> from django import BeautifulSoup def get_dict ( self ): return dict . append ( 'name' , name ) # This is what we want for our class, so it's not really needed here ... end\n",
            "Prompt : write python code to only generate top 50 prime number\n",
            "\n",
            "Response : values.\n",
            "Prompt : What is photosynthesis\n",
            "\n",
            "Response : I can only answer python related questions\n"
          ]
        }
      ]
    },
    {
      "cell_type": "code",
      "source": [],
      "metadata": {
        "id": "Ll7Ee8g9jiT2"
      },
      "execution_count": 3,
      "outputs": []
    }
  ]
}